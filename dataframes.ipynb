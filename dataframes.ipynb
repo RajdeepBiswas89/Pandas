{
 "cells": [
  {
   "cell_type": "markdown",
   "id": "cfaad968-ebe1-4b93-9e7b-afb93d3a7a55",
   "metadata": {},
   "source": [
    "dataframes:A Pandas DataFrame is a 2 dimensional data structure, like a 2 dimensionalarray, or a table with rows and columns."
   ]
  },
  {
   "cell_type": "markdown",
   "id": "afe18302-3f15-4815-be50-6ba5144f043d",
   "metadata": {},
   "source": [
    "**BASICS TO DATAFRAMES:-**"
   ]
  },
  {
   "cell_type": "markdown",
   "id": "155279bc-f5c8-4ee4-b868-56a6aa078688",
   "metadata": {},
   "source": [
    "creating dataframes with the help of lists:-"
   ]
  },
  {
   "cell_type": "code",
   "execution_count": 6,
   "id": "93edc94c-978f-45e3-8ba3-324ee5893c8c",
   "metadata": {},
   "outputs": [
    {
     "name": "stdout",
     "output_type": "stream",
     "text": [
      "    0\n",
      "0  11\n",
      "1  12\n",
      "2  13\n",
      "3  14\n"
     ]
    }
   ],
   "source": [
    "import pandas as pd\n",
    "l=[11,12,13,14]\n",
    "var1= pd.DataFrame(l)\n",
    "print(var1)"
   ]
  },
  {
   "cell_type": "markdown",
   "id": "9d1354ed-67da-4e0d-ad99-b2161a735b88",
   "metadata": {},
   "source": [
    "creating dataframes with the help of dictionary:-"
   ]
  },
  {
   "cell_type": "code",
   "execution_count": 12,
   "id": "5104a207-1372-4b18-b54f-87af64527302",
   "metadata": {},
   "outputs": [
    {
     "name": "stdout",
     "output_type": "stream",
     "text": [
      "       name  roll numbers  department\n",
      "a)  rajdeep             1         cse\n",
      "b)    rohan             2         ece\n",
      "c)    sanvi             3  mechanical\n",
      "d)    mohit             4       civil\n",
      "\n",
      "rajdeep\n"
     ]
    }
   ],
   "source": [
    "dic={\n",
    "    \"name\":[\"rajdeep\",\"rohan\",\"sanvi\",\"mohit\"],\n",
    "    \"roll numbers\":[1,2,3,4],\n",
    "    \"department\":[\"cse\",\"ece\",\"mechanical\",\"civil\"]\n",
    "}\n",
    "var2=pd.DataFrame(dic,index=[\"a)\",\"b)\",\"c)\",\"d)\"])\n",
    "print(var2)\n",
    "print()\n",
    "print(var2[\"name\"][\"a)\"]) #getting a particular value "
   ]
  },
  {
   "cell_type": "markdown",
   "id": "6db05a9a-b5e4-4844-a1fd-114c9f0a51be",
   "metadata": {},
   "source": [
    "creating dataframes using list into list"
   ]
  },
  {
   "cell_type": "code",
   "execution_count": 13,
   "id": "b350f905-6384-4792-8073-6502f1a2db79",
   "metadata": {},
   "outputs": [
    {
     "name": "stdout",
     "output_type": "stream",
     "text": [
      "    0   1   2   3\n",
      "0  21  23  45  67\n",
      "1  34   6  78  89\n"
     ]
    }
   ],
   "source": [
    "list1=[[21,23,45,67],[34,6,78,89]]\n",
    "var3=pd.DataFrame(list1)\n",
    "print(var3)"
   ]
  },
  {
   "cell_type": "markdown",
   "id": "9b034850-a608-4359-8761-8b0098f8e078",
   "metadata": {},
   "source": [
    "creating dataframes using multiples series "
   ]
  },
  {
   "cell_type": "code",
   "execution_count": 18,
   "id": "7bb8f13a-1654-419c-9127-94a74e565cf7",
   "metadata": {},
   "outputs": [
    {
     "name": "stdout",
     "output_type": "stream",
     "text": [
      "    a   b\n",
      "0  12  34\n",
      "1  13  35\n",
      "2  14  36\n",
      "3  15  37\n"
     ]
    }
   ],
   "source": [
    "dic_series={\n",
    "    \"a\":pd.Series([12,13,14,15]),\n",
    "    \"b\":pd.Series([34,35,36,37])\n",
    "}\n",
    "var4=pd.DataFrame(dic_series)\n",
    "print(var4)"
   ]
  }
 ],
 "metadata": {
  "kernelspec": {
   "display_name": "Python 3 (ipykernel)",
   "language": "python",
   "name": "python3"
  },
  "language_info": {
   "codemirror_mode": {
    "name": "ipython",
    "version": 3
   },
   "file_extension": ".py",
   "mimetype": "text/x-python",
   "name": "python",
   "nbconvert_exporter": "python",
   "pygments_lexer": "ipython3",
   "version": "3.12.4"
  }
 },
 "nbformat": 4,
 "nbformat_minor": 5
}
