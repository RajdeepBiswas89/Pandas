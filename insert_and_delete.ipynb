{
 "cells": [
  {
   "cell_type": "code",
   "execution_count": 25,
   "id": "55f25edd-ee10-4f4a-8254-124f075b7498",
   "metadata": {},
   "outputs": [
    {
     "data": {
      "text/html": [
       "<div>\n",
       "<style scoped>\n",
       "    .dataframe tbody tr th:only-of-type {\n",
       "        vertical-align: middle;\n",
       "    }\n",
       "\n",
       "    .dataframe tbody tr th {\n",
       "        vertical-align: top;\n",
       "    }\n",
       "\n",
       "    .dataframe thead th {\n",
       "        text-align: right;\n",
       "    }\n",
       "</style>\n",
       "<table border=\"1\" class=\"dataframe\">\n",
       "  <thead>\n",
       "    <tr style=\"text-align: right;\">\n",
       "      <th></th>\n",
       "      <th>A</th>\n",
       "      <th>B</th>\n",
       "    </tr>\n",
       "  </thead>\n",
       "  <tbody>\n",
       "    <tr>\n",
       "      <th>0</th>\n",
       "      <td>1</td>\n",
       "      <td>6</td>\n",
       "    </tr>\n",
       "    <tr>\n",
       "      <th>1</th>\n",
       "      <td>2</td>\n",
       "      <td>7</td>\n",
       "    </tr>\n",
       "    <tr>\n",
       "      <th>2</th>\n",
       "      <td>3</td>\n",
       "      <td>8</td>\n",
       "    </tr>\n",
       "    <tr>\n",
       "      <th>3</th>\n",
       "      <td>4</td>\n",
       "      <td>9</td>\n",
       "    </tr>\n",
       "    <tr>\n",
       "      <th>4</th>\n",
       "      <td>5</td>\n",
       "      <td>10</td>\n",
       "    </tr>\n",
       "  </tbody>\n",
       "</table>\n",
       "</div>"
      ],
      "text/plain": [
       "   A   B\n",
       "0  1   6\n",
       "1  2   7\n",
       "2  3   8\n",
       "3  4   9\n",
       "4  5  10"
      ]
     },
     "execution_count": 25,
     "metadata": {},
     "output_type": "execute_result"
    }
   ],
   "source": [
    "import pandas as pd\n",
    "var10= pd.DataFrame(\n",
    "    {\n",
    "        \"A\":[1,2,3,4,5],\n",
    "        \"B\":[6,7,8,9,10]\n",
    "    }\n",
    ")\n",
    "var10"
   ]
  },
  {
   "cell_type": "markdown",
   "id": "a8283543-c525-41dc-b9e3-c68a909a1b75",
   "metadata": {},
   "source": [
    "inserting an column"
   ]
  },
  {
   "cell_type": "code",
   "execution_count": 26,
   "id": "56ff1623-de4d-4d52-b854-89777a7fe413",
   "metadata": {},
   "outputs": [
    {
     "name": "stdout",
     "output_type": "stream",
     "text": [
      "   A  C   B\n",
      "0  1  1   6\n",
      "1  2  2   7\n",
      "2  3  3   8\n",
      "3  4  4   9\n",
      "4  5  5  10\n"
     ]
    }
   ],
   "source": [
    "var10.insert(1,\"C\",var10[\"A\"]) #column index,column name,column elements\n",
    "print(var10)"
   ]
  },
  {
   "cell_type": "code",
   "execution_count": 27,
   "id": "88361697-e359-4ac0-a8f4-deae8e2defa0",
   "metadata": {},
   "outputs": [
    {
     "name": "stdout",
     "output_type": "stream",
     "text": [
      "   A  C   D   B\n",
      "0  1  1  12   6\n",
      "1  2  2  13   7\n",
      "2  3  3  14   8\n",
      "3  4  4  15   9\n",
      "4  5  5  16  10\n"
     ]
    }
   ],
   "source": [
    "var10.insert(2,\"D\",[12,13,14,15,16])#the length of the rows should be same\n",
    "print(var10)"
   ]
  },
  {
   "cell_type": "markdown",
   "id": "2ec0361b-3ac6-43a9-bb7a-519fae409759",
   "metadata": {},
   "source": [
    "deleting a column using \"del\" or \"pop\" function"
   ]
  },
  {
   "cell_type": "code",
   "execution_count": 28,
   "id": "ede5f089-6712-46da-8f34-e958712388f1",
   "metadata": {},
   "outputs": [
    {
     "name": "stdout",
     "output_type": "stream",
     "text": [
      "   A  C   B\n",
      "0  1  1   6\n",
      "1  2  2   7\n",
      "2  3  3   8\n",
      "3  4  4   9\n",
      "4  5  5  10\n"
     ]
    }
   ],
   "source": [
    "del var10[\"D\"] #deleting column b\n",
    "print(var10)"
   ]
  }
 ],
 "metadata": {
  "kernelspec": {
   "display_name": "Python 3 (ipykernel)",
   "language": "python",
   "name": "python3"
  },
  "language_info": {
   "codemirror_mode": {
    "name": "ipython",
    "version": 3
   },
   "file_extension": ".py",
   "mimetype": "text/x-python",
   "name": "python",
   "nbconvert_exporter": "python",
   "pygments_lexer": "ipython3",
   "version": "3.12.4"
  }
 },
 "nbformat": 4,
 "nbformat_minor": 5
}
