{
 "cells": [
  {
   "cell_type": "markdown",
   "id": "243c6441-fc9f-44d2-b602-b2b8523b2bfc",
   "metadata": {},
   "source": [
    "Writing an CSV File"
   ]
  },
  {
   "cell_type": "code",
   "execution_count": 2,
   "id": "9351acb9-f38e-4ff7-ab9e-b72ee449b541",
   "metadata": {},
   "outputs": [],
   "source": [
    "import pandas as pd\n"
   ]
  },
  {
   "cell_type": "code",
   "execution_count": 5,
   "id": "b0be1bba-b96f-4525-a04d-ef6fe9e41037",
   "metadata": {},
   "outputs": [],
   "source": [
    "dic=(\n",
    "    {\n",
    "        \"a\":[1,2,3,4,5,6,7],\n",
    "        \"b\":[8,9,10,11,12,13,14],\n",
    "        \"c\":[15,16,17,18,19,20,21]\n",
    "    }\n",
    ")\n",
    "var1=pd.DataFrame(dic)\n",
    "var1\n",
    "var1.to_csv(\"demo.csv\",index=False)"
   ]
  },
  {
   "cell_type": "code",
   "execution_count": null,
   "id": "97f13c5a-d1f1-45f0-ac1f-2fd54006241e",
   "metadata": {},
   "outputs": [],
   "source": []
  }
 ],
 "metadata": {
  "kernelspec": {
   "display_name": "Python 3 (ipykernel)",
   "language": "python",
   "name": "python3"
  },
  "language_info": {
   "codemirror_mode": {
    "name": "ipython",
    "version": 3
   },
   "file_extension": ".py",
   "mimetype": "text/x-python",
   "name": "python",
   "nbconvert_exporter": "python",
   "pygments_lexer": "ipython3",
   "version": "3.12.4"
  }
 },
 "nbformat": 4,
 "nbformat_minor": 5
}
