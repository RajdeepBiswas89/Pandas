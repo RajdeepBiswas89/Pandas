{
 "cells": [
  {
   "cell_type": "markdown",
   "id": "e1692757-0d15-42a4-b667-31b74f403894",
   "metadata": {},
   "source": [
    "series: is an one dimensional array.capable of storing various data types"
   ]
  },
  {
   "cell_type": "code",
   "execution_count": 2,
   "id": "401ffbab-c75f-4d76-aa17-9e8410aa79e8",
   "metadata": {},
   "outputs": [],
   "source": [
    "import pandas as pd"
   ]
  },
  {
   "cell_type": "code",
   "execution_count": 4,
   "id": "25e60a50-efe1-4b97-baae-8aae3468bfe2",
   "metadata": {},
   "outputs": [
    {
     "name": "stdout",
     "output_type": "stream",
     "text": [
      "a    11\n",
      "b    35\n",
      "c    78\n",
      "d    54\n",
      "e    68\n",
      "f    89\n",
      "Name: series, dtype: int64\n",
      "<class 'pandas.core.series.Series'>\n"
     ]
    }
   ],
   "source": [
    "arr=[11,35,78,54,68,89]\n",
    "var= pd.Series(arr,index=['a','b','c','d','e','f'],name=\"series\")\n",
    "print(var)\n",
    "print(type(var))"
   ]
  },
  {
   "cell_type": "code",
   "execution_count": 6,
   "id": "8acd8100-0556-410d-8e82-0081d98abfe1",
   "metadata": {},
   "outputs": [
    {
     "name": "stdout",
     "output_type": "stream",
     "text": [
      "name           [rajdeep, rohan, srija, tanveer]\n",
      "roll number                     [12, 34, 56, 1]\n",
      "dtype: object\n"
     ]
    }
   ],
   "source": [
    "dic={\n",
    "    \"name\":[\"rajdeep\",\"rohan\",\"srija\",\"tanveer\"],\n",
    "    \"roll number\":[12,34,56,1]\n",
    "}\n",
    "var1=pd.Series(dic)\n",
    "print(var1)"
   ]
  },
  {
   "cell_type": "code",
   "execution_count": 11,
   "id": "2917250a-d0ae-4514-895b-9201c99ad34a",
   "metadata": {},
   "outputs": [
    {
     "name": "stdout",
     "output_type": "stream",
     "text": [
      "1    12\n",
      "2    12\n",
      "3    12\n",
      "4    12\n",
      "dtype: int64\n",
      "\n",
      "1    12\n",
      "2    12\n",
      "dtype: int64\n",
      "\n",
      "1    24.0\n",
      "2    24.0\n",
      "3     NaN\n",
      "4     NaN\n",
      "dtype: float64\n"
     ]
    }
   ],
   "source": [
    "s1= pd.Series(12,index=['1','2','3','4'])\n",
    "s2=pd.Series(12,index=['1','2'])\n",
    "print(s1)\n",
    "print()\n",
    "print(s2)\n",
    "print()\n",
    "print(s1+s2) #if we use numpy array then it would show broadcasting error happen"
   ]
  },
  {
   "cell_type": "code",
   "execution_count": null,
   "id": "6a2fdd97-702c-4d54-939c-15a71cd72e3a",
   "metadata": {},
   "outputs": [],
   "source": []
  }
 ],
 "metadata": {
  "kernelspec": {
   "display_name": "Python 3 (ipykernel)",
   "language": "python",
   "name": "python3"
  },
  "language_info": {
   "codemirror_mode": {
    "name": "ipython",
    "version": 3
   },
   "file_extension": ".py",
   "mimetype": "text/x-python",
   "name": "python",
   "nbconvert_exporter": "python",
   "pygments_lexer": "ipython3",
   "version": "3.12.4"
  }
 },
 "nbformat": 4,
 "nbformat_minor": 5
}
