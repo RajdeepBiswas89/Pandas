{
 "cells": [
  {
   "cell_type": "code",
   "execution_count": 1,
   "id": "c2915e44-5497-40df-8ad5-4defff364f6a",
   "metadata": {},
   "outputs": [],
   "source": [
    "import pandas as pd"
   ]
  },
  {
   "cell_type": "markdown",
   "id": "121c99ea-906a-4dc1-8cb8-c0d12b5bc318",
   "metadata": {},
   "source": [
    "READING A CSV FILE FROM A FILE LOCATION"
   ]
  },
  {
   "cell_type": "code",
   "execution_count": 4,
   "id": "b5abb194-7358-48aa-a834-55a2b4902493",
   "metadata": {},
   "outputs": [
    {
     "data": {
      "text/html": [
       "<div>\n",
       "<style scoped>\n",
       "    .dataframe tbody tr th:only-of-type {\n",
       "        vertical-align: middle;\n",
       "    }\n",
       "\n",
       "    .dataframe tbody tr th {\n",
       "        vertical-align: top;\n",
       "    }\n",
       "\n",
       "    .dataframe thead th {\n",
       "        text-align: right;\n",
       "    }\n",
       "</style>\n",
       "<table border=\"1\" class=\"dataframe\">\n",
       "  <thead>\n",
       "    <tr style=\"text-align: right;\">\n",
       "      <th></th>\n",
       "      <th>a</th>\n",
       "      <th>b</th>\n",
       "      <th>c</th>\n",
       "    </tr>\n",
       "  </thead>\n",
       "  <tbody>\n",
       "    <tr>\n",
       "      <th>0</th>\n",
       "      <td>1</td>\n",
       "      <td>8</td>\n",
       "      <td>15</td>\n",
       "    </tr>\n",
       "    <tr>\n",
       "      <th>1</th>\n",
       "      <td>2</td>\n",
       "      <td>9</td>\n",
       "      <td>16</td>\n",
       "    </tr>\n",
       "    <tr>\n",
       "      <th>2</th>\n",
       "      <td>3</td>\n",
       "      <td>10</td>\n",
       "      <td>17</td>\n",
       "    </tr>\n",
       "    <tr>\n",
       "      <th>3</th>\n",
       "      <td>4</td>\n",
       "      <td>11</td>\n",
       "      <td>18</td>\n",
       "    </tr>\n",
       "    <tr>\n",
       "      <th>4</th>\n",
       "      <td>5</td>\n",
       "      <td>12</td>\n",
       "      <td>19</td>\n",
       "    </tr>\n",
       "    <tr>\n",
       "      <th>5</th>\n",
       "      <td>6</td>\n",
       "      <td>13</td>\n",
       "      <td>20</td>\n",
       "    </tr>\n",
       "    <tr>\n",
       "      <th>6</th>\n",
       "      <td>7</td>\n",
       "      <td>14</td>\n",
       "      <td>21</td>\n",
       "    </tr>\n",
       "  </tbody>\n",
       "</table>\n",
       "</div>"
      ],
      "text/plain": [
       "   a   b   c\n",
       "0  1   8  15\n",
       "1  2   9  16\n",
       "2  3  10  17\n",
       "3  4  11  18\n",
       "4  5  12  19\n",
       "5  6  13  20\n",
       "6  7  14  21"
      ]
     },
     "execution_count": 4,
     "metadata": {},
     "output_type": "execute_result"
    }
   ],
   "source": [
    "var1=pd.read_csv(\"D:\\\\Pandas(python library)\\\\demo.csv\") #reading from a csv files\n",
    "var1"
   ]
  },
  {
   "cell_type": "markdown",
   "id": "0df646be-8e72-4633-b6c7-49a503c2fee2",
   "metadata": {},
   "source": [
    "GETTING A SPECIFIC ROW OR COLUMN FROM THE CSV FILE"
   ]
  },
  {
   "cell_type": "code",
   "execution_count": 7,
   "id": "580fc7c5-799e-4ea9-8819-e21f2098d1ed",
   "metadata": {},
   "outputs": [
    {
     "name": "stdout",
     "output_type": "stream",
     "text": [
      "   a   b   c\n",
      "0  1   8  15\n",
      "1  2   9  16\n",
      "2  3  10  17\n"
     ]
    }
   ],
   "source": [
    "var2=pd.read_csv(\"D:\\\\Pandas(python library)\\\\demo.csv\",nrows=3) #for getting rows\n",
    "print(var2)"
   ]
  },
  {
   "cell_type": "markdown",
   "id": "4c975382-5209-4933-a265-767abfe04b9b",
   "metadata": {},
   "source": [
    "GETTING A SPECIFIC COLUMNS FROM THE CSV FILES"
   ]
  },
  {
   "cell_type": "code",
   "execution_count": 8,
   "id": "bc522f5d-2bd1-49db-8f02-37c5a9bb8e1b",
   "metadata": {},
   "outputs": [
    {
     "name": "stdout",
     "output_type": "stream",
     "text": [
      "   a\n",
      "0  1\n",
      "1  2\n",
      "2  3\n",
      "3  4\n",
      "4  5\n",
      "5  6\n",
      "6  7\n"
     ]
    }
   ],
   "source": [
    "var2=pd.read_csv(\"D:\\\\Pandas(python library)\\\\demo.csv\",usecols=[\"a\"])\n",
    "print(var2)"
   ]
  },
  {
   "cell_type": "markdown",
   "id": "b50bb98c-d252-4287-9f3d-d481a6f5b8d4",
   "metadata": {},
   "source": [
    "skipping rows"
   ]
  },
  {
   "cell_type": "code",
   "execution_count": 9,
   "id": "e5d61bac-919f-4b7f-b1f7-e5ce2a4b77e8",
   "metadata": {},
   "outputs": [
    {
     "name": "stdout",
     "output_type": "stream",
     "text": [
      "   2   9  16\n",
      "0  3  10  17\n",
      "1  4  11  18\n",
      "2  5  12  19\n",
      "3  6  13  20\n",
      "4  7  14  21\n"
     ]
    }
   ],
   "source": [
    "var3=pd.read_csv(\"D:\\\\Pandas(python library)\\\\demo.csv\",skiprows=2)\n",
    "print(var3)"
   ]
  },
  {
   "cell_type": "markdown",
   "id": "5b62180e-41f5-4877-aae1-a1f06bb2742e",
   "metadata": {},
   "source": [
    "setting an header"
   ]
  },
  {
   "cell_type": "code",
   "execution_count": 11,
   "id": "2ad2764f-1ab8-4f94-8bfd-0ca3faf3621b",
   "metadata": {},
   "outputs": [
    {
     "data": {
      "text/html": [
       "<div>\n",
       "<style scoped>\n",
       "    .dataframe tbody tr th:only-of-type {\n",
       "        vertical-align: middle;\n",
       "    }\n",
       "\n",
       "    .dataframe tbody tr th {\n",
       "        vertical-align: top;\n",
       "    }\n",
       "\n",
       "    .dataframe thead th {\n",
       "        text-align: right;\n",
       "    }\n",
       "</style>\n",
       "<table border=\"1\" class=\"dataframe\">\n",
       "  <thead>\n",
       "    <tr style=\"text-align: right;\">\n",
       "      <th></th>\n",
       "      <th>4</th>\n",
       "      <th>11</th>\n",
       "      <th>18</th>\n",
       "    </tr>\n",
       "  </thead>\n",
       "  <tbody>\n",
       "    <tr>\n",
       "      <th>0</th>\n",
       "      <td>5</td>\n",
       "      <td>12</td>\n",
       "      <td>19</td>\n",
       "    </tr>\n",
       "    <tr>\n",
       "      <th>1</th>\n",
       "      <td>6</td>\n",
       "      <td>13</td>\n",
       "      <td>20</td>\n",
       "    </tr>\n",
       "    <tr>\n",
       "      <th>2</th>\n",
       "      <td>7</td>\n",
       "      <td>14</td>\n",
       "      <td>21</td>\n",
       "    </tr>\n",
       "  </tbody>\n",
       "</table>\n",
       "</div>"
      ],
      "text/plain": [
       "   4  11  18\n",
       "0  5  12  19\n",
       "1  6  13  20\n",
       "2  7  14  21"
      ]
     },
     "execution_count": 11,
     "metadata": {},
     "output_type": "execute_result"
    }
   ],
   "source": [
    "var4=pd.read_csv(\"D:\\\\Pandas(python library)\\\\demo.csv\",header=4)\n",
    "var4"
   ]
  },
  {
   "cell_type": "code",
   "execution_count": null,
   "id": "bdd33930-3f5d-4803-a781-a6bedacce36f",
   "metadata": {},
   "outputs": [],
   "source": []
  }
 ],
 "metadata": {
  "kernelspec": {
   "display_name": "Python 3 (ipykernel)",
   "language": "python",
   "name": "python3"
  },
  "language_info": {
   "codemirror_mode": {
    "name": "ipython",
    "version": 3
   },
   "file_extension": ".py",
   "mimetype": "text/x-python",
   "name": "python",
   "nbconvert_exporter": "python",
   "pygments_lexer": "ipython3",
   "version": "3.12.4"
  }
 },
 "nbformat": 4,
 "nbformat_minor": 5
}
